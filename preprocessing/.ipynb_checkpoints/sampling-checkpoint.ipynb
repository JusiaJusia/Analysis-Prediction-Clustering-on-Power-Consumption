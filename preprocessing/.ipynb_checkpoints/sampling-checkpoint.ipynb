{
 "cells": [
  {
   "cell_type": "code",
   "execution_count": 4,
   "metadata": {},
   "outputs": [
    {
     "name": "stdout",
     "output_type": "stream",
     "text": [
      "(1442, 7)\n",
      "            Global_active_power  Global_reactive_power    Voltage  \\\n",
      "DateTime                                                            \n",
      "2006-12-16             1209.176                 34.922   93552.53   \n",
      "2006-12-17             3390.460                226.006  345725.32   \n",
      "2006-12-18             2203.826                161.792  347373.64   \n",
      "2006-12-19             1666.194                150.942  348479.01   \n",
      "2006-12-20             2225.748                160.998  348923.61   \n",
      "\n",
      "            Global_intensity  Sub_metering_1  Sub_metering_2  Sub_metering_3  \n",
      "DateTime                                                                      \n",
      "2006-12-16            5180.8             0.0           546.0          4926.0  \n",
      "2006-12-17           14398.6          2033.0          4187.0         13341.0  \n",
      "2006-12-18            9247.2          1063.0          2621.0         14018.0  \n",
      "2006-12-19            7094.0           839.0          7602.0          6197.0  \n",
      "2006-12-20            9313.0             0.0          2648.0         14063.0  \n"
     ]
    }
   ],
   "source": [
    "import pandas as pd\n",
    "import numpy as np\n",
    "\n",
    "df = pd.read_csv('../../dataset/cleaned.csv', header=0, infer_datetime_format=True, parse_dates=['DateTime'], index_col=['DateTime'])\n",
    "\n"
   ]
  },
  {
   "cell_type": "code",
   "execution_count": 9,
   "metadata": {},
   "outputs": [
    {
     "name": "stdout",
     "output_type": "stream",
     "text": [
      "(34589, 7)\n",
      "                     Global_active_power  Global_reactive_power   Voltage  \\\n",
      "DateTime                                                                    \n",
      "2006-12-16 17:00:00              152.024                  8.244   8447.18   \n",
      "2006-12-16 18:00:00              217.932                  4.802  14074.81   \n",
      "2006-12-16 19:00:00              204.014                  5.114  13993.95   \n",
      "2006-12-16 20:00:00              196.114                  4.506  14044.29   \n",
      "2006-12-16 21:00:00              183.388                  4.600  14229.52   \n",
      "\n",
      "                     Global_intensity  Sub_metering_1  Sub_metering_2  \\\n",
      "DateTime                                                                \n",
      "2006-12-16 17:00:00             651.6             0.0            19.0   \n",
      "2006-12-16 18:00:00             936.0             0.0           403.0   \n",
      "2006-12-16 19:00:00             870.2             0.0            86.0   \n",
      "2006-12-16 20:00:00             835.0             0.0             0.0   \n",
      "2006-12-16 21:00:00             782.8             0.0            25.0   \n",
      "\n",
      "                     Sub_metering_3  \n",
      "DateTime                             \n",
      "2006-12-16 17:00:00           607.0  \n",
      "2006-12-16 18:00:00          1012.0  \n",
      "2006-12-16 19:00:00          1001.0  \n",
      "2006-12-16 20:00:00          1007.0  \n",
      "2006-12-16 21:00:00          1033.0  \n"
     ]
    }
   ],
   "source": [
    "#Sampling hourly\n",
    "\n",
    "hourly_groups = df.resample('H')\n",
    "hourly_data = hourly_groups.sum()\n",
    "print(hourly_data.shape)\n",
    "print(hourly_data.head())\n",
    "hourly_data.to_csv('../../dataset/hourlyData.csv')"
   ]
  },
  {
   "cell_type": "code",
   "execution_count": 5,
   "metadata": {},
   "outputs": [
    {
     "name": "stdout",
     "output_type": "stream",
     "text": [
      "(1442, 7)\n",
      "            Global_active_power  Global_reactive_power    Voltage  \\\n",
      "DateTime                                                            \n",
      "2006-12-16             1209.176                 34.922   93552.53   \n",
      "2006-12-17             3390.460                226.006  345725.32   \n",
      "2006-12-18             2203.826                161.792  347373.64   \n",
      "2006-12-19             1666.194                150.942  348479.01   \n",
      "2006-12-20             2225.748                160.998  348923.61   \n",
      "\n",
      "            Global_intensity  Sub_metering_1  Sub_metering_2  Sub_metering_3  \n",
      "DateTime                                                                      \n",
      "2006-12-16            5180.8             0.0           546.0          4926.0  \n",
      "2006-12-17           14398.6          2033.0          4187.0         13341.0  \n",
      "2006-12-18            9247.2          1063.0          2621.0         14018.0  \n",
      "2006-12-19            7094.0           839.0          7602.0          6197.0  \n",
      "2006-12-20            9313.0             0.0          2648.0         14063.0  \n"
     ]
    }
   ],
   "source": [
    "#Sampling daily\n",
    "\n",
    "daily_groups = df.resample('D')\n",
    "daily_data = daily_groups.sum()\n",
    "print(daily_data.shape)\n",
    "print(daily_data.head())\n",
    "daily_data.to_csv('../../dataset/dailyData.csv')"
   ]
  },
  {
   "cell_type": "code",
   "execution_count": 7,
   "metadata": {},
   "outputs": [
    {
     "name": "stdout",
     "output_type": "stream",
     "text": [
      "(207, 7)\n",
      "            Global_active_power  Global_reactive_power     Voltage  \\\n",
      "DateTime                                                             \n",
      "2006-12-17             4599.636                260.928   439277.85   \n",
      "2006-12-24            17477.618               1176.174  2433008.21   \n",
      "2006-12-31            19749.552               1453.126  2438445.48   \n",
      "2007-01-07            14961.068               1348.954  2428490.09   \n",
      "2007-01-14            16179.556               1590.596  2421917.92   \n",
      "\n",
      "            Global_intensity  Sub_metering_1  Sub_metering_2  Sub_metering_3  \n",
      "DateTime                                                                      \n",
      "2006-12-17           19579.4          2033.0          4733.0         18267.0  \n",
      "2006-12-24           73994.4         11190.0         21351.0         77447.0  \n",
      "2006-12-31           83078.0         14312.0         22675.0         67272.0  \n",
      "2007-01-07           63122.2          5857.0         17599.0         54193.0  \n",
      "2007-01-14           68864.8         13420.0         18989.0         83372.0  \n"
     ]
    }
   ],
   "source": [
    "#Sampling weekly\n",
    "\n",
    "weekly_groups = df.resample('W')\n",
    "weekly_data = weekly_groups.sum()\n",
    "print(weekly_data.shape)\n",
    "print(weekly_data.head())\n",
    "weekly_data.to_csv('../../dataset/weeklyData.csv')"
   ]
  },
  {
   "cell_type": "code",
   "execution_count": 8,
   "metadata": {},
   "outputs": [
    {
     "name": "stdout",
     "output_type": "stream",
     "text": [
      "(48, 7)\n",
      "            Global_active_power  Global_reactive_power       Voltage  \\\n",
      "DateTime                                                               \n",
      "2006-12-31            41826.806               2890.228  5.310732e+06   \n",
      "2007-01-31            69017.230               5922.962  1.075399e+07   \n",
      "2007-02-28            56496.828               4581.798  9.697733e+06   \n",
      "2007-03-31            58862.574               5122.312  1.073652e+07   \n",
      "2007-04-30            36529.322               5221.448  1.032721e+07   \n",
      "\n",
      "            Global_intensity  Sub_metering_1  Sub_metering_2  Sub_metering_3  \n",
      "DateTime                                                                      \n",
      "2006-12-31          176651.8         27535.0         48759.0        162986.0  \n",
      "2007-01-31          292264.0         56433.0         79274.0        329611.0  \n",
      "2007-02-28          238497.0         47584.0         64640.0        270308.0  \n",
      "2007-03-31          248773.8         60769.0        104762.0        290361.0  \n",
      "2007-04-30          156983.6         42078.0         38417.0        189503.0  \n"
     ]
    }
   ],
   "source": [
    "#Sampling monthly\n",
    "\n",
    "monthly_groups = df.resample('M')\n",
    "monthly_data = monthly_groups.sum()\n",
    "print(monthly_data.shape)\n",
    "print(monthly_data.head())\n",
    "monthly_data.to_csv('../../dataset/monthlyData.csv')"
   ]
  },
  {
   "cell_type": "code",
   "execution_count": null,
   "metadata": {
    "collapsed": true
   },
   "outputs": [],
   "source": []
  }
 ],
 "metadata": {
  "kernelspec": {
   "display_name": "Python 3",
   "language": "python",
   "name": "python3"
  },
  "language_info": {
   "codemirror_mode": {
    "name": "ipython",
    "version": 3
   },
   "file_extension": ".py",
   "mimetype": "text/x-python",
   "name": "python",
   "nbconvert_exporter": "python",
   "pygments_lexer": "ipython3",
   "version": "3.6.1"
  }
 },
 "nbformat": 4,
 "nbformat_minor": 2
}
