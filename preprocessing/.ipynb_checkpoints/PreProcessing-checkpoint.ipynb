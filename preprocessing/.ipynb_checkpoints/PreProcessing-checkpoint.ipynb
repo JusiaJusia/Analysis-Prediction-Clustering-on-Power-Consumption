{
 "cells": [
  {
   "cell_type": "code",
   "execution_count": null,
   "metadata": {
    "collapsed": true
   },
   "outputs": [],
   "source": [
    "import pandas as pd\n",
    "import numpy as np\n",
    "\n",
    "df = pd.read_csv('../../dataset/household_power_consumption.txt', sep=';')\n",
    "df['Date'] = pd.to_datetime(df['Date'])\n",
    "df['Time'] = pd.to_timedelta(df['Time'])\n",
    "df['DateTime'] =  df['Date'] + df['Time']\n",
    "df = df.interpolate(method='nearest', axis=0).ffill().bfill()\n",
    "df.to_csv('../../dataset/cleaned.csv')\n"
   ]
  }
 ],
 "metadata": {
  "kernelspec": {
   "display_name": "Python 3",
   "language": "python",
   "name": "python3"
  },
  "language_info": {
   "codemirror_mode": {
    "name": "ipython",
    "version": 3
   },
   "file_extension": ".py",
   "mimetype": "text/x-python",
   "name": "python",
   "nbconvert_exporter": "python",
   "pygments_lexer": "ipython3",
   "version": "3.6.1"
  }
 },
 "nbformat": 4,
 "nbformat_minor": 2
}
