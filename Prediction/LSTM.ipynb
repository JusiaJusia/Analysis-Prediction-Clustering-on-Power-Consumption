{
 "cells": [
  {
   "cell_type": "code",
   "execution_count": 1,
   "metadata": {},
   "outputs": [
    {
     "name": "stderr",
     "output_type": "stream",
     "text": [
      "Using TensorFlow backend.\n"
     ]
    }
   ],
   "source": [
    "%matplotlib inline\n",
    "import numpy as np\n",
    "import matplotlib.pyplot as plt\n",
    "import pandas as pd\n",
    "import math\n",
    "from math import sqrt\n",
    "from numpy import array\n",
    "from numpy import split\n",
    "from sklearn.metrics import mean_squared_error\n",
    "from matplotlib import pyplot\n",
    "from keras.regularizers import L1L2\n",
    "from keras.models import Sequential\n",
    "from keras.layers import Dense\n",
    "from keras.layers import Flatten\n",
    "from keras.layers import LSTM\n",
    "from keras.layers import RepeatVector\n",
    "from keras.layers import TimeDistributed\n",
    "from keras.layers.convolutional import Conv1D\n",
    "from keras.layers.convolutional import MaxPooling1D"
   ]
  },
  {
   "cell_type": "code",
   "execution_count": 2,
   "metadata": {},
   "outputs": [],
   "source": [
    "dailyData = pd.read_csv('../../dataset/dailyData.csv', low_memory=False, infer_datetime_format=True, index_col=['DateTime'], header=0, parse_dates=['DateTime'])\n",
    "weeklyData = pd.read_csv('../../dataset/weeklyData.csv', low_memory=False, infer_datetime_format=True, index_col=['DateTime'], header=0, parse_dates=['DateTime'])\n",
    "monthlyData = pd.read_csv('../../dataset/monthlyData.csv', low_memory=False, infer_datetime_format=True, index_col=['DateTime'], header=0, parse_dates=['DateTime'])"
   ]
  },
  {
   "cell_type": "code",
   "execution_count": 3,
   "metadata": {},
   "outputs": [
    {
     "name": "stdout",
     "output_type": "stream",
     "text": [
      "[[1.2091760e+03 3.4922000e+01 9.3552530e+04 ... 0.0000000e+00\n",
      "  5.4600000e+02 4.9260000e+03]\n",
      " [3.3904600e+03 2.2600600e+02 3.4572532e+05 ... 2.0330000e+03\n",
      "  4.1870000e+03 1.3341000e+04]\n",
      " [2.2038260e+03 1.6179200e+02 3.4737364e+05 ... 1.0630000e+03\n",
      "  2.6210000e+03 1.4018000e+04]\n",
      " ...\n",
      " [1.7962480e+03 1.3246000e+02 3.4564459e+05 ... 1.0960000e+03\n",
      "  2.8480000e+03 1.2224000e+04]\n",
      " [1.4311640e+03 1.1612800e+02 3.4781221e+05 ... 1.0760000e+03\n",
      "  4.2600000e+02 5.0720000e+03]\n",
      " [1.4881040e+03 1.2082600e+02 3.0348757e+05 ... 1.0800000e+03\n",
      "  3.8500000e+02 9.9890000e+03]]\n",
      "            Global_active_power  Global_reactive_power    Voltage  \\\n",
      "DateTime                                                            \n",
      "2006-12-16             1209.176                 34.922   93552.53   \n",
      "2006-12-17             3390.460                226.006  345725.32   \n",
      "2006-12-18             2203.826                161.792  347373.64   \n",
      "2006-12-19             1666.194                150.942  348479.01   \n",
      "2006-12-20             2225.748                160.998  348923.61   \n",
      "\n",
      "            Global_intensity  Sub_metering_1  Sub_metering_2  Sub_metering_3  \\\n",
      "DateTime                                                                       \n",
      "2006-12-16            5180.8             0.0           546.0          4926.0   \n",
      "2006-12-17           14398.6          2033.0          4187.0         13341.0   \n",
      "2006-12-18            9247.2          1063.0          2621.0         14018.0   \n",
      "2006-12-19            7094.0           839.0          7602.0          6197.0   \n",
      "2006-12-20            9313.0             0.0          2648.0         14063.0   \n",
      "\n",
      "            Sub_metering_4  \n",
      "DateTime                    \n",
      "2006-12-16    14680.933333  \n",
      "2006-12-17    36946.666667  \n",
      "2006-12-18    19028.433333  \n",
      "2006-12-19    13131.900000  \n",
      "2006-12-20    20384.800000  \n"
     ]
    }
   ],
   "source": [
    "values = dailyData.values # taking global active power\n",
    "print(values)\n",
    "dailyData['Sub_metering_4'] = (values[:,0] * 1000 / 60) - (values[:,4] + values[:,5] + values[:,6])\n",
    "print(dailyData.head())"
   ]
  },
  {
   "cell_type": "code",
   "execution_count": 4,
   "metadata": {},
   "outputs": [],
   "source": [
    "def create_dataset(dataset, window_size = 1):\n",
    "    data_X, data_Y = [], []\n",
    "    for i in range(len(dataset) - window_size - 1):\n",
    "        a = dataset[i:(i + window_size), 0]\n",
    "        data_X.append(a)\n",
    "        data_Y.append(dataset[i + window_size, 0])\n",
    "    return(np.array(data_X), np.array(data_Y))"
   ]
  },
  {
   "cell_type": "code",
   "execution_count": 5,
   "metadata": {},
   "outputs": [],
   "source": [
    "# split a univariate dataset into train/test sets\n",
    "def split_dataset(data):\n",
    "    # split into standard weeks\n",
    "    train = data['2006-12-17':'2010-01-02']\n",
    "    train = train.values\n",
    "    test = data['2010-01-03':'2010-11-20']\n",
    "    test = test.values\n",
    "    # train, test = data[1:-328], data[-328:-6]\n",
    "    # restructure into windows of weekly data\n",
    "    train = array(split(train, len(train)/7))\n",
    "    test = array(split(test, len(test)/7))\n",
    "    return train, test"
   ]
  },
  {
   "cell_type": "code",
   "execution_count": 6,
   "metadata": {},
   "outputs": [],
   "source": [
    "# evaluate one or more weekly forecasts against expected values\n",
    "def evaluate_forecasts(actual, predicted):\n",
    "    scores = list()\n",
    "    # calculate an RMSE score for each day\n",
    "    for i in range(actual.shape[1]):\n",
    "        # calculate mse\n",
    "        mse = mean_squared_error(actual[:, i], predicted[:, i])\n",
    "        # calculate rmse\n",
    "        rmse = sqrt(mse)\n",
    "        # store\n",
    "        scores.append(rmse)\n",
    "# calculate overall RMSE\n",
    "    s = 0\n",
    "    for row in range(actual.shape[0]):\n",
    "        for col in range(actual.shape[1]):\n",
    "            s += (actual[row, col] - predicted[row, col])**2\n",
    "    score = sqrt(s / (actual.shape[0] * actual.shape[1]))\n",
    "    return score, scores"
   ]
  },
  {
   "cell_type": "code",
   "execution_count": 7,
   "metadata": {},
   "outputs": [],
   "source": [
    "# summarize scores\n",
    "def summarize_scores(name, score, scores):\n",
    "    s_scores = ', '.join(['%.1f' % s for s in scores])\n",
    "    print('%s: [%.3f] %s' % (name, score, s_scores))"
   ]
  },
  {
   "cell_type": "code",
   "execution_count": 8,
   "metadata": {},
   "outputs": [],
   "source": [
    "# convert history into inputs and outputs\n",
    "def to_supervised(train, n_input, n_out=7):\n",
    "    # flatten data\n",
    "    data = train.reshape((train.shape[0]*train.shape[1], train.shape[2]))\n",
    "    X, y = list(), list()\n",
    "    in_start = 0\n",
    "    # step over the entire history one time step at a time\n",
    "    for _ in range(len(data)):\n",
    "        # define the end of the input sequence\n",
    "        in_end = in_start + n_input\n",
    "        out_end = in_end + n_out\n",
    "        # ensure we have enough data for this instance\n",
    "        if out_end < len(data):\n",
    "            x_input = data[in_start:in_end, 0]\n",
    "            x_input = x_input.reshape((len(x_input), 1))\n",
    "            X.append(x_input)\n",
    "            y.append(data[in_end:out_end, 0])\n",
    "        # move along one time step\n",
    "        in_start += 1\n",
    "    return array(X), array(y)"
   ]
  },
  {
   "cell_type": "code",
   "execution_count": 9,
   "metadata": {},
   "outputs": [],
   "source": [
    "# train the model\n",
    "def build_model(train, n_input):\n",
    "    # prepare data\n",
    "    train_x, train_y = to_supervised(train, n_input)\n",
    "    # define parameters\n",
    "    verbose, epochs, batch_size = 0, 70, 16\n",
    "    n_timesteps, n_features, n_outputs = train_x.shape[1], train_x.shape[2], train_y.shape[1]\n",
    "    # define model\n",
    "    model = Sequential()\n",
    "    model.add(LSTM(200, activation='relu', input_shape=(n_timesteps, n_features), bias_regularizer=L1L2(l1=0.01, l2=0.01)))\n",
    "    model.add(Dense(100, activation='relu'))\n",
    "    model.add(Dense(n_outputs))\n",
    "    model.compile(loss='mse', optimizer='adam')\n",
    "    # fit network\n",
    "    model.fit(train_x, train_y, epochs=epochs, batch_size=batch_size, verbose=verbose)\n",
    "    return model"
   ]
  },
  {
   "cell_type": "code",
   "execution_count": 10,
   "metadata": {},
   "outputs": [],
   "source": [
    "# train the CNN model\n",
    "def build_model_cnn(train, n_input):\n",
    "    # prepare data\n",
    "    train_x, train_y = to_supervised(train, n_input)\n",
    "    # define parameters\n",
    "    verbose, epochs, batch_size = 0, 20, 16\n",
    "    n_timesteps, n_features, n_outputs = train_x.shape[1], train_x.shape[2], train_y.shape[1]\n",
    "    # reshape output into [samples, timesteps, features]\n",
    "    train_y = train_y.reshape((train_y.shape[0], train_y.shape[1], 1))\n",
    "    # define model\n",
    "    model = Sequential()\n",
    "    model.add(Conv1D(filters=64, kernel_size=3, activation='relu', input_shape=(n_timesteps,n_features)))\n",
    "    model.add(Conv1D(filters=64, kernel_size=3, activation='relu'))\n",
    "    model.add(MaxPooling1D(pool_size=2))\n",
    "    model.add(Flatten())\n",
    "    model.add(RepeatVector(n_outputs))\n",
    "    model.add(LSTM(200, activation='relu', return_sequences=True, bias_regularizer=L1L2(l1=0.01, l2=0.01)))\n",
    "    model.add(TimeDistributed(Dense(100, activation='relu')))\n",
    "    model.add(TimeDistributed(Dense(1)))\n",
    "    model.compile(loss='mse', optimizer='adam')\n",
    "    # fit network\n",
    "    model.fit(train_x, train_y, epochs=epochs, batch_size=batch_size, verbose=verbose)\n",
    "    return model"
   ]
  },
  {
   "cell_type": "code",
   "execution_count": 11,
   "metadata": {},
   "outputs": [],
   "source": [
    "# train the CONV model\n",
    "def build_model_conv(train, n_steps, n_length, n_input):\n",
    "    # prepare data\n",
    "    train_x, train_y = to_supervised(train, n_input)\n",
    "    # define parameters\n",
    "    verbose, epochs, batch_size = 0, 20, 16\n",
    "    n_timesteps, n_features, n_outputs = train_x.shape[1], train_x.shape[2], train_y.shape[1]\n",
    "    # reshape into subsequences [samples, time steps, rows, cols, channels]\n",
    "    train_x = train_x.reshape((train_x.shape[0], n_steps, 1, n_length, n_features))\n",
    "    # reshape output into [samples, timesteps, features]\n",
    "    train_y = train_y.reshape((train_y.shape[0], train_y.shape[1], 1))\n",
    "    # define model\n",
    "    model = Sequential()\n",
    "    model.add(ConvLSTM2D(filters=64, kernel_size=(1,3), activation='relu', input_shape=(n_steps, 1, n_length, n_features), bias_regularizer=L1L2(l1=0.01, l2=0.01)))\n",
    "    model.add(Flatten())\n",
    "    model.add(RepeatVector(n_outputs))\n",
    "    model.add(LSTM(200, activation='relu', return_sequences=True))\n",
    "    model.add(TimeDistributed(Dense(100, activation='relu')))\n",
    "    model.add(TimeDistributed(Dense(1)))\n",
    "    model.compile(loss='mse', optimizer='adam')\n",
    "    # fit network\n",
    "    model.fit(train_x, train_y, epochs=epochs, batch_size=batch_size, verbose=verbose)\n",
    "    return model"
   ]
  },
  {
   "cell_type": "code",
   "execution_count": 12,
   "metadata": {},
   "outputs": [],
   "source": [
    "# make a forecast\n",
    "def forecast(model, history, n_input):\n",
    "    # flatten data\n",
    "    data = array(history)\n",
    "    data = data.reshape((data.shape[0]*data.shape[1], data.shape[2]))\n",
    "    # retrieve last observations for input data\n",
    "    input_x = data[-n_input:, 0]\n",
    "    # reshape into [1, n_input, 1]\n",
    "    input_x = input_x.reshape((1, len(input_x), 1))\n",
    "    # forecast the next week\n",
    "    yhat = model.predict(input_x, verbose=0)\n",
    "    # we only want the vector forecast\n",
    "    yhat = yhat[0]\n",
    "    return yhat"
   ]
  },
  {
   "cell_type": "code",
   "execution_count": 13,
   "metadata": {},
   "outputs": [],
   "source": [
    "# make a forecast\n",
    "def forecast_conv(model, history, n_steps, n_length, n_input):\n",
    "    # flatten data\n",
    "    data = array(history)\n",
    "    data = data.reshape((data.shape[0]*data.shape[1], data.shape[2]))\n",
    "    # retrieve last observations for input data\n",
    "    input_x = data[-n_input:, 0]\n",
    "    # reshape into [samples, time steps, rows, cols, channels]\n",
    "    input_x = input_x.reshape((1, n_steps, 1, n_length, 1))\n",
    "    # forecast the next week\n",
    "    yhat = model.predict(input_x, verbose=0)\n",
    "    # we only want the vector forecast\n",
    "    yhat = yhat[0]\n",
    "    return yhat"
   ]
  },
  {
   "cell_type": "code",
   "execution_count": 14,
   "metadata": {},
   "outputs": [],
   "source": [
    "# evaluate a single model\n",
    "def evaluate_model(train, test, n_input):\n",
    "    # fit model\n",
    "    model = build_model(train, n_input)\n",
    "    # history is a list of weekly data\n",
    "    history = [x for x in train]\n",
    "    # walk-forward validation over each week\n",
    "    predictions = list()\n",
    "    for i in range(len(test)):\n",
    "        # predict the week\n",
    "        yhat_sequence = forecast(model, history, n_input)\n",
    "        # store the predictions\n",
    "        predictions.append(yhat_sequence)\n",
    "        # get real observation and add to history for predicting the next week\n",
    "        history.append(test[i, :])\n",
    "    # evaluate predictions days for each week\n",
    "    predictions = array(predictions)\n",
    "    score, scores = evaluate_forecasts(test[:, :, 0], predictions)\n",
    "    return score, scores, predictions"
   ]
  },
  {
   "cell_type": "code",
   "execution_count": 15,
   "metadata": {},
   "outputs": [],
   "source": [
    "# evaluate CNN_LSTM model\n",
    "def evaluate_model_cnn(train, test, n_input):\n",
    "    # fit model\n",
    "    model = build_model_cnn(train, n_input)\n",
    "    # history is a list of weekly data\n",
    "    history = [x for x in train]\n",
    "    # walk-forward validation over each week\n",
    "    predictions = list()\n",
    "    for i in range(len(test)):\n",
    "        # predict the week\n",
    "        yhat_sequence = forecast(model, history, n_input)\n",
    "        # store the predictions\n",
    "        predictions.append(yhat_sequence)\n",
    "        # get real observation and add to history for predicting the next week\n",
    "        history.append(test[i, :])\n",
    "    # evaluate predictions days for each week\n",
    "    predictions = array(predictions)\n",
    "    score, scores = evaluate_forecasts(test[:, :, 0], predictions)\n",
    "    return score, scores, predictions"
   ]
  },
  {
   "cell_type": "code",
   "execution_count": 20,
   "metadata": {},
   "outputs": [],
   "source": [
    "# evaluate CONV_LSTM model\n",
    "def evaluate_model_conv(train, test, n_steps, n_length, n_input):\n",
    "    # fit model\n",
    "    model = build_model_cnn(train, n_input)\n",
    "    # history is a list of weekly data\n",
    "    history = [x for x in train]\n",
    "    # walk-forward validation over each week\n",
    "    predictions = list()\n",
    "    for i in range(len(test)):\n",
    "        # predict the week\n",
    "        yhat_sequence = forecast_conv(model, history, n_steps, n_length, n_input)\n",
    "        # store the predictions\n",
    "        predictions.append(yhat_sequence)\n",
    "        # get real observation and add to history for predicting the next week\n",
    "        history.append(test[i, :])\n",
    "    # evaluate predictions days for each week\n",
    "    predictions = array(predictions)\n",
    "    score, scores = evaluate_forecasts(test[:, :, 0], predictions)\n",
    "    return score, scores, predictions"
   ]
  },
  {
   "cell_type": "code",
   "execution_count": 22,
   "metadata": {},
   "outputs": [
    {
     "name": "stdout",
     "output_type": "stream",
     "text": [
      "(159, 7, 8)\n",
      "3390.46 1311.8059999999996\n",
      "(46, 7, 8)\n",
      "2083.4539999999993 2197.006000000004\n",
      "159\n",
      "46\n",
      "46\n",
      "lstm: [440.836] 404.8, 511.8, 466.5, 406.0, 413.5, 391.5, 477.3\n",
      "lstm_cnn: [457.821] 395.0, 538.9, 471.2, 427.9, 437.6, 414.3, 502.6\n"
     ]
    },
    {
     "data": {
      "image/png": "[encoded data removed]",
      "text/plain": [
       "<Figure size 432x288 with 1 Axes>"
      ]
     },
     "metadata": {
      "needs_background": "light"
     },
     "output_type": "display_data"
    }
   ],
   "source": [
    "train, test = split_dataset(dailyData)\n",
    "# validate train data\n",
    "print(train.shape)\n",
    "print(train[0, 0, 0], train[-1, -1, 0])\n",
    "# validate test\n",
    "print(test.shape)\n",
    "print(test[0, 0, 0], test[-1, -1, 0])\n",
    "n_input = 14\n",
    "# define the number of subsequences and the length of subsequences\n",
    "n_steps, n_length = 2, 7\n",
    "score, scores, predictions = evaluate_model(train, test, n_input)\n",
    "score_cnn, scores_cnn, predictions_cnn = evaluate_model_cnn(train, test, n_input)\n",
    "#score_conv, scores_conv, predictions_conv = evaluate_model_conv(train, test, n_steps, n_length, n_input)\n",
    "#print(predictions)\n",
    "print(len(train))\n",
    "print(len(test))\n",
    "print(len(predictions))\n",
    "\n",
    "# summarize scores\n",
    "summarize_scores('lstm', score, scores)\n",
    "summarize_scores('lstm_cnn', score_cnn, scores_cnn)\n",
    "#summarize_scores('lstm_conv', score_conv, scores_conv)\n",
    "# plot scores\n",
    "days = ['sun', 'mon', 'tue', 'wed', 'thr', 'fri', 'sat']\n",
    "pyplot.plot(days, scores, marker='o', label='lstm')\n",
    "pyplot.plot(days, scores_cnn, marker='o', label='lstm_cnn')\n",
    "#pyplot.plot(days, scores_conv, marker='o', label='lstm_conv')\n",
    "pyplot.show()"
   ]
  },
  {
   "cell_type": "code",
   "execution_count": 29,
   "metadata": {},
   "outputs": [
    {
     "name": "stdout",
     "output_type": "stream",
     "text": [
      "(46, 7)\n",
      "322\n",
      "322\n",
      "322\n"
     ]
    },
    {
     "data": {
      "image/png": "[encoded data removed]",
      "text/plain": [
       "<Figure size 432x288 with 1 Axes>"
      ]
     },
     "metadata": {
      "needs_background": "light"
     },
     "output_type": "display_data"
    }
   ],
   "source": [
    "print(predictions.shape)\n",
    "x_values = []\n",
    "y_values = []\n",
    "residuals = []\n",
    "for i in range(len(test)):\n",
    "    for j in range(7):\n",
    "        x_values.append(test[i, j, 0])\n",
    "        y_values.append(predictions[i, j])\n",
    "        residuals.append(test[i,j,0] - predictions[i, j])\n",
    "print(len(x_values))\n",
    "print(len(y_values))\n",
    "print(len(residuals))\n",
    "pyplot.plot(range(1,323), x_values, label = 'actual')\n",
    "pyplot.plot(range(1,323), y_values, label = 'predicted')\n",
    "pyplot.show()"
   ]
  },
  {
   "cell_type": "markdown",
   "metadata": {},
   "source": [
    "# Hybrid Model Starts"
   ]
  },
  {
   "cell_type": "code",
   "execution_count": 26,
   "metadata": {},
   "outputs": [
    {
     "name": "stdout",
     "output_type": "stream",
     "text": [
      "(46, 7)\n",
      "[1995.8351 1996.9451 1987.4531 2019.7361 1927.6742 1994.9553 1958.3608]\n",
      "[[2.08345400e+03 1.91610000e+02 3.50992120e+05 8.70360000e+03\n",
      "  3.84200000e+03 4.92000000e+03 1.00740000e+04 1.58882333e+04]\n",
      " [1.60413200e+03 1.56404000e+02 3.53806730e+05 6.62320000e+03\n",
      "  0.00000000e+00 2.92000000e+02 1.08120000e+04 1.56315333e+04]\n",
      " [2.21978000e+03 1.48936000e+02 3.52110290e+05 9.13980000e+03\n",
      "  1.78500000e+03 2.93000000e+02 1.64680000e+04 1.84503333e+04]\n",
      " [1.77718000e+03 1.52080000e+02 3.53138130e+05 7.36140000e+03\n",
      "  1.73100000e+03 3.25600000e+03 1.13590000e+04 1.32736667e+04]\n",
      " [1.76944200e+03 1.15024000e+02 3.52668330e+05 7.30040000e+03\n",
      "  1.19800000e+03 2.55000000e+02 1.29360000e+04 1.51017000e+04]\n",
      " [1.79720800e+03 1.59780000e+02 3.51942930e+05 7.41800000e+03\n",
      "  0.00000000e+00 9.94000000e+02 1.25310000e+04 1.64284667e+04]\n",
      " [2.33690000e+03 1.99400000e+02 3.51172420e+05 9.69620000e+03\n",
      "  2.78100000e+03 4.85500000e+03 1.47340000e+04 1.65783333e+04]]\n"
     ]
    }
   ],
   "source": [
    "param_seasonal = [1,0,0,52]\n",
    "pdq = [2,0,1]\n",
    "\n",
    "mod = sm.tsa.statespace.SARIMAX(weeklyGAP_train,\n",
    "                                order = pdq,\n",
    "                                seasonal_order= param_seasonal,\n",
    "                                enforce_stationarity=False,\n",
    "                                enforce_invertibility=False)\n",
    "\n",
    "results = mod.fit()\n",
    "print(results.summary().tables[1])\n",
    "rmse = sqrt(mean_squared_error(results.fittedvalues, weeklyGAP_train))\n",
    "print('ARIMA{}x{} - AIC:{} -RMSE:{}'.format(pdq, param_seasonal, results.aic, rmse))\n",
    "results.plot_diagnostics(figsize=(16,8))\n",
    "plt.show()"
   ]
  },
  {
   "cell_type": "code",
   "execution_count": null,
   "metadata": {},
   "outputs": [],
   "source": [
    "start_date = '2009-12-27'\n",
    "end_date = '2010-11-21'\n",
    "\n",
    "pred = results.get_prediction(start = start_date, end = end_date, dynamic=1)\n",
    "pred_ci = pred.conf_int()\n",
    "\n",
    "ax = weeklyGAP[start_date:end_date].plot(label='observed')\n",
    "pred.predicted_mean.plot(ax=ax, label='Forecast', alpha=.7, figsize=(14, 7))\n",
    "\n",
    "ax.fill_between(pred_ci.index,\n",
    "                pred_ci.iloc[:, 0],\n",
    "                pred_ci.iloc[:, 1], color='k', alpha=.2)\n",
    "\n",
    "ax.set_xlabel('Date')\n",
    "ax.set_ylabel('Electricity consumption')\n",
    "plt.legend()\n",
    "\n",
    "plt.show()\n",
    "\n",
    "rmse = sqrt(mean_squared_error(pred.predicted_mean, weeklyGAP[start_date:end_date].values))\n",
    "print('RMSE:{}'.format(rmse))"
   ]
  }
 ],
 "metadata": {
  "kernelspec": {
   "display_name": "Python 3",
   "language": "python",
   "name": "python3"
  },
  "language_info": {
   "codemirror_mode": {
    "name": "ipython",
    "version": 3
   },
   "file_extension": ".py",
   "mimetype": "text/x-python",
   "name": "python",
   "nbconvert_exporter": "python",
   "pygments_lexer": "ipython3",
   "version": "3.6.7"
  }
 },
 "nbformat": 4,
 "nbformat_minor": 2
}
