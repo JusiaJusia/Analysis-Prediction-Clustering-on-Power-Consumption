{
 "cells": [
  {
   "cell_type": "code",
   "execution_count": null,
   "metadata": {},
   "outputs": [],
   "source": [
    "param_seasonal = [1,0,0,52]\n",
    "pdq = [2,0,1]\n",
    "\n",
    "mod = sm.tsa.statespace.SARIMAX(weeklyGAP_train,\n",
    "                                order = pdq,\n",
    "                                seasonal_order= param_seasonal,\n",
    "                                enforce_stationarity=False,\n",
    "                                enforce_invertibility=False)\n",
    "\n",
    "results = mod.fit()\n",
    "print(results.summary().tables[1])\n",
    "rmse = sqrt(mean_squared_error(results.fittedvalues, weeklyGAP_train))\n",
    "print('ARIMA{}x{} - AIC:{} -RMSE:{}'.format(pdq, param_seasonal, results.aic, rmse))\n",
    "results.plot_diagnostics(figsize=(16,8))\n",
    "plt.show()"
   ]
  },
  {
   "cell_type": "code",
   "execution_count": null,
   "metadata": {},
   "outputs": [],
   "source": [
    "start_date = '2009-12-27'\n",
    "end_date = '2010-11-21'\n",
    "\n",
    "pred = results.get_prediction(start = start_date, end = end_date, dynamic=1)\n",
    "pred_ci = pred.conf_int()\n",
    "\n",
    "ax = weeklyGAP[start_date:end_date].plot(label='observed')\n",
    "pred.predicted_mean.plot(ax=ax, label='Forecast', alpha=.7, figsize=(14, 7))\n",
    "\n",
    "ax.fill_between(pred_ci.index,\n",
    "                pred_ci.iloc[:, 0],\n",
    "                pred_ci.iloc[:, 1], color='k', alpha=.2)\n",
    "\n",
    "ax.set_xlabel('Date')\n",
    "ax.set_ylabel('Electricity consumption')\n",
    "plt.legend()\n",
    "\n",
    "plt.show()\n",
    "\n",
    "rmse = sqrt(mean_squared_error(pred.predicted_mean, weeklyGAP[start_date:end_date].values))\n",
    "print('RMSE:{}'.format(rmse))"
   ]
  }
 ],
 "metadata": {
  "kernelspec": {
   "display_name": "Python 3",
   "language": "python",
   "name": "python3"
  },
  "language_info": {
   "codemirror_mode": {
    "name": "ipython",
    "version": 3
   },
   "file_extension": ".py",
   "mimetype": "text/x-python",
   "name": "python",
   "nbconvert_exporter": "python",
   "pygments_lexer": "ipython3",
   "version": "3.6.7"
  }
 },
 "nbformat": 4,
 "nbformat_minor": 2
}
