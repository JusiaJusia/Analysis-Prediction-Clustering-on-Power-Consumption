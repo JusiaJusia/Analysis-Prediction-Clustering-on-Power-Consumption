{
 "cells": [
  {
   "cell_type": "code",
   "execution_count": 11,
   "metadata": {},
   "outputs": [
    {
     "name": "stderr",
     "output_type": "stream",
     "text": [
      "/home/srikumar/anaconda3/lib/python3.6/site-packages/statsmodels/compat/pandas.py:56: FutureWarning: The pandas.core.datetools module is deprecated and will be removed in a future version. Please use the pandas.tseries module instead.\n",
      "  from pandas.core import datetools\n"
     ]
    }
   ],
   "source": [
    "%matplotlib inline \n",
    "import pandas as pd\n",
    "import numpy as np\n",
    "import matplotlib.pyplot as plt\n",
    "import statsmodels.api as sm\n",
    "import warnings\n",
    "import itertools\n",
    "from pylab import rcParams\n",
    "from statsmodels.graphics.tsaplots import plot_acf, plot_pacf\n",
    "from statsmodels.tsa.stattools import bds\n",
    "\n",
    "import warnings\n",
    "warnings.filterwarnings('ignore')"
   ]
  },
  {
   "cell_type": "code",
   "execution_count": 25,
   "metadata": {
    "collapsed": true
   },
   "outputs": [],
   "source": [
    "minlyData = pd.read_csv(\"../../dataset/cleaned.csv\", infer_datetime_format = True,  parse_dates=['DateTime'], index_col = ['DateTime'])\n",
    "df = pd.read_csv('../../dataset/household_power_consumption.txt', sep=';', na_values='?', dtype = {'Global_active_power': float, \n",
    "        'Global_reactive_power': float, 'Voltage': float, 'Global_intensity': float, 'Sub_metering_1': float, \n",
    "        'Sub_metering_2': float,'Sub_metering_3': float}, infer_datetime_format=True, parse_dates={'DateTime':[0,1]}, index_col=['DateTime'])"
   ]
  },
  {
   "cell_type": "code",
   "execution_count": 39,
   "metadata": {},
   "outputs": [
    {
     "name": "stdout",
     "output_type": "stream",
     "text": [
      "Done Slicing\n",
      "5\n"
     ]
    }
   ],
   "source": [
    "\n",
    "\n",
    "k = -1\n",
    "win = 60*24     #2 hours window, 50% overlap\n",
    "\n",
    "ts_len = 60*24*6  #small subset for testing purposes\n",
    "\n",
    "ts_slices = []\n",
    "dis_matrix = []\n",
    "ts_data = minlyData['Global_active_power']['2007-01-12':'2007-01-16']\n",
    "step_size = win\n",
    "break_count = max((((ts_len/win)*1.5)/200), 5)\n",
    "\n",
    "for z in range(0, ts_len-win, step_size):\n",
    "    ts_slices.append(ts_data[z:z+win])\n",
    "print(\"Done Slicing\")\n",
    "print(len(ts_slices))"
   ]
  },
  {
   "cell_type": "code",
   "execution_count": 20,
   "metadata": {},
   "outputs": [
    {
     "name": "stdout",
     "output_type": "stream",
     "text": [
      "2.543473889454397e-134\n",
      "Minutely Data is Non Linear in window of 2 hours\n",
      "\n"
     ]
    }
   ],
   "source": [
    "bds_stat_minly, pvalue_minly = bds(ts_slices[])\n",
    "print(pvalue_minly)\n",
    "if (pvalue_minly < 0.05):\n",
    "    print(\"Minutely Data is Non Linear in window of 2 hours\")\n",
    "else:\n",
    "    print(\"Minutely Data is Linear in window of 2 hours\")\n",
    "    \n",
    "print('')"
   ]
  },
  {
   "cell_type": "code",
   "execution_count": 36,
   "metadata": {},
   "outputs": [
    {
     "name": "stdout",
     "output_type": "stream",
     "text": [
      "Date:DatetimeIndex(['2007-01-12 14:00:00'], dtype='datetime64[ns]', name='DateTime', freq=None) , mean-0.33490000000000014\n",
      "Date:DatetimeIndex(['2007-01-13 14:00:00'], dtype='datetime64[ns]', name='DateTime', freq=None) , mean-1.6297\n",
      "Date:DatetimeIndex(['2007-01-14 14:00:00'], dtype='datetime64[ns]', name='DateTime', freq=None) , mean-1.8274666666666666\n",
      "Date:DatetimeIndex(['2007-01-15 14:00:00'], dtype='datetime64[ns]', name='DateTime', freq=None) , mean-1.4841333333333335\n",
      "Date:DatetimeIndex(['2007-01-16 14:00:00'], dtype='datetime64[ns]', name='DateTime', freq=None) , mean-1.9168666666666665\n"
     ]
    }
   ],
   "source": [
    "print('Date:{} , mean-{}'.format(ts_slices[14].head(1).index, ts_slices[14].values.mean()))\n",
    "print('Date:{} , mean-{}'.format(ts_slices[14+24].head(1).index, ts_slices[14+24].values.mean()))\n",
    "print('Date:{} , mean-{}'.format(ts_slices[14+24*2].head(1).index, ts_slices[14+24*2].values.mean()))\n",
    "print('Date:{} , mean-{}'.format(ts_slices[14+24*3].head(1).index, ts_slices[14+24*3].values.mean()))\n",
    "print('Date:{} , mean-{}'.format(ts_slices[14+24*4].head(1).index, ts_slices[14+24*4].values.mean()))"
   ]
  },
  {
   "cell_type": "code",
   "execution_count": 40,
   "metadata": {},
   "outputs": [
    {
     "name": "stdout",
     "output_type": "stream",
     "text": [
      "Date:DatetimeIndex(['2007-01-12'], dtype='datetime64[ns]', name='DateTime', freq=None) ,mean-1.0147888888888887, min-0.206, max-6.478\n",
      "Date:DatetimeIndex(['2007-01-13'], dtype='datetime64[ns]', name='DateTime', freq=None) ,mean-2.2130652777777775, min-0.212, max-9.272\n",
      "Date:DatetimeIndex(['2007-01-14'], dtype='datetime64[ns]', name='DateTime', freq=None) ,mean-2.090998611111111, min-0.202, max-7.64\n",
      "Date:DatetimeIndex(['2007-01-15'], dtype='datetime64[ns]', name='DateTime', freq=None) ,mean-1.4921375, min-0.208, max-5.896\n",
      "Date:DatetimeIndex(['2007-01-16'], dtype='datetime64[ns]', name='DateTime', freq=None) ,mean-1.1711138888888888, min-0.212, max-5.57\n"
     ]
    }
   ],
   "source": [
    "print('Date:{} ,mean-{}, min-{}, max-{}'.format(ts_slices[0].head(1).index, ts_slices[0].values.mean(), ts_slices[0].values.min(), ts_slices[0].values.max()))\n",
    "print('Date:{} ,mean-{}, min-{}, max-{}'.format(ts_slices[1].head(1).index, ts_slices[1].values.mean(), ts_slices[1].values.min(), ts_slices[1].values.max()))\n",
    "print('Date:{} ,mean-{}, min-{}, max-{}'.format(ts_slices[2].head(1).index, ts_slices[2].values.mean(), ts_slices[2].values.min(), ts_slices[2].values.max()))\n",
    "print('Date:{} ,mean-{}, min-{}, max-{}'.format(ts_slices[3].head(1).index, ts_slices[3].values.mean(), ts_slices[3].values.min(), ts_slices[3].values.max()))\n",
    "print('Date:{} ,mean-{}, min-{}, max-{}'.format(ts_slices[4].head(1).index, ts_slices[4].values.mean(), ts_slices[4].values.min(), ts_slices[4].values.max()))"
   ]
  },
  {
   "cell_type": "code",
   "execution_count": 27,
   "metadata": {},
   "outputs": [
    {
     "data": {
      "text/plain": [
       "array([0.362, 0.362, 0.362, 0.36 , 0.44 , 0.446, 0.444, 0.444, 0.446,\n",
       "       0.444, 0.442, 0.44 , 0.44 , 0.44 , 0.442, 0.442, 0.438, 0.442,\n",
       "       0.438, 0.438, 0.466, 0.548, 0.546, 0.55 , 0.546, 0.544, 0.542,\n",
       "       0.61 , 0.614, 0.612, 0.614, 0.61 , 0.538, 0.538, 0.536, 0.54 ,\n",
       "       0.476, 0.378, 0.374, 0.372, 0.372, 0.374, 0.376, 0.376, 0.376,\n",
       "       0.376, 0.374, 0.374, 0.372, 0.372, 0.378, 0.386, 0.388, 0.386,\n",
       "       0.384, 0.386, 0.382, 0.374, 0.376, 0.376])"
      ]
     },
     "execution_count": 27,
     "metadata": {},
     "output_type": "execute_result"
    }
   ],
   "source": [
    "ts_slices[22].values"
   ]
  },
  {
   "cell_type": "code",
   "execution_count": null,
   "metadata": {
    "collapsed": true
   },
   "outputs": [],
   "source": []
  }
 ],
 "metadata": {
  "kernelspec": {
   "display_name": "Python 3",
   "language": "python",
   "name": "python3"
  },
  "language_info": {
   "codemirror_mode": {
    "name": "ipython",
    "version": 3
   },
   "file_extension": ".py",
   "mimetype": "text/x-python",
   "name": "python",
   "nbconvert_exporter": "python",
   "pygments_lexer": "ipython3",
   "version": "3.6.7"
  }
 },
 "nbformat": 4,
 "nbformat_minor": 2
}
